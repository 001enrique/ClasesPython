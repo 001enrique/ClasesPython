{
  "nbformat": 4,
  "nbformat_minor": 0,
  "metadata": {
    "colab": {
      "provenance": [],
      "authorship_tag": "ABX9TyNay/n3zUbmd77/eO17zz9h",
      "include_colab_link": true
    },
    "kernelspec": {
      "name": "python3",
      "display_name": "Python 3"
    },
    "language_info": {
      "name": "python"
    }
  },
  "cells": [
    {
      "cell_type": "markdown",
      "metadata": {
        "id": "view-in-github",
        "colab_type": "text"
      },
      "source": [
        "<a href=\"https://colab.research.google.com/github/001enrique/ClasesPython/blob/main/primertema.ipynb\" target=\"_parent\"><img src=\"https://colab.research.google.com/assets/colab-badge.svg\" alt=\"Open In Colab\"/></a>"
      ]
    },
    {
      "cell_type": "code",
      "source": [],
      "metadata": {
        "id": "asySwzAWCCxw"
      },
      "execution_count": null,
      "outputs": []
    },
    {
      "cell_type": "markdown",
      "source": [
        "**Lenguaje y Algoritmo**\n",
        "\n",
        "Leenguajes de programación:\n",
        "\n",
        "\n",
        "*   C\n",
        "*   C++\n",
        "*   Java\n",
        "*   Fortran\n",
        "*   Delphi\n",
        "\n",
        "**Algoritmo**\n",
        "\n",
        "Conjunto de pasos, procedimientos o acciones que nos permiten alcanzar un resultado o resolver un problema.\n",
        "\n",
        "Características:\n",
        "\n",
        "Deterministmo.\n",
        "Precisión.\n",
        "Finitud.\n",
        "\n",
        "(Cairó et al., 1993)\n",
        "\n",
        "**Datos Numéricos**\n",
        "\n",
        "Valores enteros y valores reales.\n",
        "Valores enteros pueden estar precedidos por los signos ( +  -)\n",
        "\n",
        "128 152s -714 8 530 -14 789\n",
        "7.5  128.0  -37.865   129.7    16 000.50\n",
        "\n",
        "**Datos Alfanuméricos**\n",
        "*caracter\n",
        "*Cadena\n",
        "\n",
        "(a,b,c...z)\n",
        "(0, 1, 2, 3... 9)\n",
        "(#, ?, $, %, *, etc)\n",
        "\n",
        "'a' 'B' '$' '9' 'H'\n",
        "\n",
        "\"abc\" \"$9#7\" \"Heeeectoooor\" \"Patroclo!!!\" \"754-27-22\"\n",
        "\n",
        "**Datos Lógicos**\n",
        "booleanos\n",
        "Verdadero (true)\n",
        "Falso     (false)\n",
        "\n"
      ],
      "metadata": {
        "id": "vbJTQJb0_qWX"
      }
    }
  ]
}